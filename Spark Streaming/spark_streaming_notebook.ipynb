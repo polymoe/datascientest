{
 "cells": [
  {
   "cell_type": "markdown",
   "metadata": {},
   "source": [
    "Tout d'abord, nous importons StreamingContext, qui est le principal point d'entrée de toutes les fonctionnalités de streaming. C'est lui qui va s'occuper de manager les streams de l'application."
   ]
  },
  {
   "cell_type": "code",
   "execution_count": 1,
   "metadata": {},
   "outputs": [],
   "source": [
    "from pyspark import SparkContext\n",
    "from pyspark.streaming import StreamingContext"
   ]
  },
  {
   "cell_type": "markdown",
   "metadata": {},
   "source": [
    "Nous créons ensuite un StreamingContext local avec deux threads d'exécution, et un intervalle de batch de 30 secondes."
   ]
  },
  {
   "cell_type": "code",
   "execution_count": 2,
   "metadata": {},
   "outputs": [],
   "source": [
    "sc = SparkContext(\"local[2]\", \"WordCount\")\n",
    "sc.setLogLevel(\"ERROR\")\n",
    "ssc = StreamingContext(sc, 30)"
   ]
  },
  {
   "cell_type": "markdown",
   "metadata": {},
   "source": [
    "C'est maintenant que nous allons créer notre DStream. En utilisant notre StreamingContext, nous pouvons créer un DStream qui représente les données en continu à partir d'une source TCP, on spécifie donc localhost en nom d'hôte (netcat s'exécute sur la même machine que spark: dans le conteneur) et 8887 comme port (port défini lors du lancement de Netcat)."
   ]
  },
  {
   "cell_type": "code",
   "execution_count": 3,
   "metadata": {},
   "outputs": [],
   "source": [
    "lines = ssc.socketTextStream(\"172.31.17.230\", 8887)"
   ]
  },
  {
   "cell_type": "markdown",
   "metadata": {},
   "source": [
    "Le DStream lines représente le stream d'event qui sera reçu du serveur de données. Chaque enregistrement de ce DStream est un message envoyé. Ensuite, nous voulons enlever les majuscules dans nos mots puis diviser les messages en mots."
   ]
  },
  {
   "cell_type": "code",
   "execution_count": 4,
   "metadata": {},
   "outputs": [],
   "source": [
    "words = lines.flatMap(lambda line: line.lower().split(\" \"))"
   ]
  },
  {
   "cell_type": "markdown",
   "metadata": {},
   "source": [
    "flatMap va transformer le DStream initial contenant un flux de messages en un DStream contenant un flux de mot, ce sera mieux pour faire un MapReduce par la suite.\n",
    "\n",
    "Le DStream de mots est donc ensuite mappé en un DStream de paires (mot, 1), qui est ensuite réduit pour obtenir la fréquence des mots dans chaque batch. Enfin, wordCounts.pprint() imprimera les 10 premières paires correspondant au word count toutes les 30 secondes."
   ]
  },
  {
   "cell_type": "code",
   "execution_count": 5,
   "metadata": {},
   "outputs": [],
   "source": [
    "pairs = words.map(lambda word: (word, 1))\n",
    "wordCounts = pairs.reduceByKey(lambda x, y: x + y)\n",
    "wordCounts.pprint()"
   ]
  },
  {
   "cell_type": "markdown",
   "metadata": {},
   "source": [
    "Pour lancer le traitement après que toutes les transformations aient été configurées, nous appelons finalement:"
   ]
  },
  {
   "cell_type": "code",
   "execution_count": null,
   "metadata": {},
   "outputs": [
    {
     "name": "stdout",
     "output_type": "stream",
     "text": [
      "-------------------------------------------\n",
      "Time: 2022-11-28 14:35:30\n",
      "-------------------------------------------\n",
      "('world!', 3)\n",
      "('bienvenue', 1)\n",
      "('à', 2)\n",
      "('datascientest', 1)\n",
      "('tous', 1)\n",
      "('le', 4)\n",
      "('est', 1)\n",
      "('pour', 1)\n",
      "('streaming', 2)\n",
      "('tester', 1)\n",
      "...\n",
      "\n",
      "-------------------------------------------\n",
      "Time: 2022-11-28 14:36:00\n",
      "-------------------------------------------\n",
      "('coucou', 1)\n",
      "('que', 1)\n",
      "('passa', 1)\n",
      "('?', 1)\n",
      "('el', 1)\n",
      "('assim', 1)\n",
      "('vosse', 1)\n",
      "('mata', 1)\n",
      "('la', 1)\n",
      "('famille', 1)\n",
      "...\n",
      "\n",
      "-------------------------------------------\n",
      "Time: 2022-11-28 14:36:30\n",
      "-------------------------------------------\n",
      "(\"j'aime\", 1)\n",
      "('les', 1)\n",
      "('test', 4)\n",
      "('aie', 3)\n",
      "('caramba', 1)\n",
      "('confetis', 1)\n",
      "('et', 2)\n",
      "('la', 1)\n",
      "('confiture', 1)\n",
      "('cornebidouille', 1)\n",
      "\n"
     ]
    }
   ],
   "source": [
    "ssc.start()\n",
    "ssc.awaitTermination()"
   ]
  }
 ],
 "metadata": {
  "kernelspec": {
   "display_name": "Python 3",
   "language": "python",
   "name": "python3"
  },
  "language_info": {
   "codemirror_mode": {
    "name": "ipython",
    "version": 3
   },
   "file_extension": ".py",
   "mimetype": "text/x-python",
   "name": "python",
   "nbconvert_exporter": "python",
   "pygments_lexer": "ipython3",
   "version": "3.7.6"
  }
 },
 "nbformat": 4,
 "nbformat_minor": 4
}
