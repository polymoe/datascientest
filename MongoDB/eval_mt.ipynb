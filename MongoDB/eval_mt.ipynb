{
 "cells": [
  {
   "cell_type": "markdown",
   "metadata": {},
   "source": [
    "# EVALUATION MODULE MongoDB\n",
    "### Mohamed TOUMI"
   ]
  },
  {
   "cell_type": "markdown",
   "metadata": {},
   "source": [
    "================="
   ]
  },
  {
   "cell_type": "markdown",
   "metadata": {},
   "source": [
    "### Connexion à la base de données"
   ]
  },
  {
   "cell_type": "markdown",
   "metadata": {},
   "source": [
    "(a) Pour se connecter à MongoDB, lancer la cellule suivante:"
   ]
  },
  {
   "cell_type": "code",
   "execution_count": 2,
   "metadata": {},
   "outputs": [],
   "source": [
    "from pymongo import MongoClient\n",
    "\n",
    "full_dns_name = 'mongodb://ec2-54-229-30-76.eu-west-1.compute.amazonaws.com:27017'\n",
    "username = 'test'\n",
    "password = 'test'\n",
    "authSource = 'admin'\n",
    "\n",
    "client = MongoClient(host=full_dns_name, username=username, password=password, authSource=authSource)"
   ]
  },
  {
   "cell_type": "markdown",
   "metadata": {},
   "source": [
    "(b) afficher la liste des bases de données disponibles"
   ]
  },
  {
   "cell_type": "code",
   "execution_count": 3,
   "metadata": {},
   "outputs": [
    {
     "name": "stdout",
     "output_type": "stream",
     "text": [
      "['arxiv']\n"
     ]
    }
   ],
   "source": [
    "print(client.list_database_names())"
   ]
  },
  {
   "cell_type": "markdown",
   "metadata": {},
   "source": [
    "(c) afficher la liste des collections disponibles dans cette base de données"
   ]
  },
  {
   "cell_type": "code",
   "execution_count": 4,
   "metadata": {},
   "outputs": [
    {
     "name": "stdout",
     "output_type": "stream",
     "text": [
      "['papers']\n"
     ]
    }
   ],
   "source": [
    "arxiv = client[\"arxiv\"]\n",
    "print(arxiv.list_collection_names())"
   ]
  },
  {
   "cell_type": "markdown",
   "metadata": {},
   "source": [
    "(d) afficher un des documents de cette collection"
   ]
  },
  {
   "cell_type": "code",
   "execution_count": 5,
   "metadata": {},
   "outputs": [
    {
     "name": "stdout",
     "output_type": "stream",
     "text": [
      "{'_id': ObjectId('5fa9a4db76fdd8d66273c643'),\n",
      " 'abstract': '  A fully differential calculation in perturbative quantum '\n",
      "             'chromodynamics is\\n'\n",
      "             'presented for the production of massive photon pairs at hadron '\n",
      "             'colliders. All\\n'\n",
      "             'next-to-leading order perturbative contributions from '\n",
      "             'quark-antiquark,\\n'\n",
      "             'gluon-(anti)quark, and gluon-gluon subprocesses are included, as '\n",
      "             'well as\\n'\n",
      "             'all-orders resummation of initial-state gluon radiation valid '\n",
      "             'at\\n'\n",
      "             'next-to-next-to-leading logarithmic accuracy. The region of '\n",
      "             'phase space is\\n'\n",
      "             'specified in which the calculation is most reliable. Good '\n",
      "             'agreement is\\n'\n",
      "             'demonstrated with data from the Fermilab Tevatron, and '\n",
      "             'predictions are made for\\n'\n",
      "             'more detailed tests with CDF and DO data. Predictions are shown '\n",
      "             'for\\n'\n",
      "             'distributions of diphoton pairs produced at the energy of the '\n",
      "             'Large Hadron\\n'\n",
      "             'Collider (LHC). Distributions of the diphoton pairs from the '\n",
      "             'decay of a Higgs\\n'\n",
      "             'boson are contrasted with those produced from QCD processes at '\n",
      "             'the LHC, showing\\n'\n",
      "             'that enhanced sensitivity to the signal can be obtained with '\n",
      "             'judicious\\n'\n",
      "             'selection of events.\\n',\n",
      " 'authors': \"C. Bal\\\\'azs, E. L. Berger, P. M. Nadolsky, C.-P. Yuan\",\n",
      " 'authors_parsed': [['Balázs', 'C.', ''],\n",
      "                    ['Berger', 'E. L.', ''],\n",
      "                    ['Nadolsky', 'P. M.', ''],\n",
      "                    ['Yuan', 'C. -P.', '']],\n",
      " 'categories': 'hep-ph',\n",
      " 'comments': '37 pages, 15 figures; published version',\n",
      " 'doi': '10.1103/PhysRevD.76.013009',\n",
      " 'id': '0704.0001',\n",
      " 'journal-ref': 'Phys.Rev.D76:013009,2007',\n",
      " 'license': None,\n",
      " 'report-no': 'ANL-HEP-PR-07-12',\n",
      " 'submitter': 'Pavel Nadolsky',\n",
      " 'title': 'Calculation of prompt diphoton production cross sections at '\n",
      "          'Tevatron and\\n'\n",
      "          '  LHC energies',\n",
      " 'update_date': '2008-11-26',\n",
      " 'versions': [{'created': 'Mon, 2 Apr 2007 19:18:42 GMT', 'version': 'v1'},\n",
      "              {'created': 'Tue, 24 Jul 2007 20:10:27 GMT', 'version': 'v2'}]}\n"
     ]
    }
   ],
   "source": [
    "from pprint import pprint \n",
    "\n",
    "papers = arxiv[\"papers\"]\n",
    "pprint(papers.find_one())"
   ]
  },
  {
   "cell_type": "markdown",
   "metadata": {},
   "source": [
    "(e) afficher le nombre de documents dans cette collection"
   ]
  },
  {
   "cell_type": "code",
   "execution_count": 7,
   "metadata": {},
   "outputs": [
    {
     "name": "stdout",
     "output_type": "stream",
     "text": [
      "10000\n"
     ]
    }
   ],
   "source": [
    "print(papers.count_documents({}))"
   ]
  },
  {
   "cell_type": "markdown",
   "metadata": {},
   "source": [
    "### Exploration de la base"
   ]
  },
  {
   "cell_type": "markdown",
   "metadata": {},
   "source": [
    "(a) afficher le titre de 10 articles"
   ]
  },
  {
   "cell_type": "code",
   "execution_count": 10,
   "metadata": {},
   "outputs": [
    {
     "name": "stdout",
     "output_type": "stream",
     "text": [
      "[{'title': 'Calculation of prompt diphoton production cross sections at Tevatron and\\n  LHC energies'}, {'title': 'Sparsity-certifying Graph Decompositions'}, {'title': 'The evolution of the Earth-Moon system based on the dark matter field\\n  fluid model'}, {'title': 'A determinant of Stirling cycle numbers counts unlabeled acyclic\\n  single-source automata'}, {'title': 'From dyadic $\\\\Lambda_{\\\\alpha}$ to $\\\\Lambda_{\\\\alpha}$'}, {'title': 'Bosonic characters of atomic Cooper pairs across resonance'}, {'title': 'Polymer Quantum Mechanics and its Continuum Limit'}, {'title': 'Numerical solution of shock and ramp compression for general material\\n  properties'}, {'title': 'The Spitzer c2d Survey of Large, Nearby, Insterstellar Clouds. IX. The\\n  Serpens YSO Population As Observed With IRAC and MIPS'}, {'title': 'Partial cubes: structures, characterizations, and constructions'}]\n"
     ]
    }
   ],
   "source": [
    "print(list(papers.find({}, {\"_id\":0, \"title\":1}).limit(10)))"
   ]
  },
  {
   "cell_type": "markdown",
   "metadata": {},
   "source": [
    "(b) afficher les 10 premiers auteurs par ordre alphabétique"
   ]
  },
  {
   "cell_type": "code",
   "execution_count": 127,
   "metadata": {},
   "outputs": [
    {
     "name": "stdout",
     "output_type": "stream",
     "text": [
      "[{'authors': '(The TeV4LHC-Top and Electroweak Working Group:) C.E.Gerber, P.Murat,\\n  T.M.P.Tait, D.Wackeroth, A.Arbuzov, D.Bardin, U.Baur, J.A.Benitez, S.Berge,\\n  S.Bondarenko, E.E.Boos, M.T.Bowen, R.Brock, V.E.Bunichev, J.Campbell,\\n  F.Canelli, Q.-H.Cao, C.M.Carloni Calame, F.Chevallier, P.Christova,\\n  C.Ciobanu, S.Dittmaier, L.V.Dudko, S.D.Ellis, A.I.Etienvre, F.Fiedler,\\n  A.Garcia-Bellido, A.Giammanco, D.Glenzinski, P.Golonka, C.Hays, S.Jadach,\\n  S.Jain, L.Kalinovskaya, M.Kramer, A.Lleres, J.Luck, A.Lucotte, A.Markina,\\n  G.Montagna, P.M.Nadolsky, O.Nicrosini, F.I.Olness, W.Placzek, R.Sadykov,\\n  V.I.Savrin, R.Schwienhorst, A.V.Sherstnev, S.Slabospitsky, B.Stelzer,\\n  M.J.Strassler, Z.Sullivan, F.Tramontano, A.Vicini, W.Wagner, Z.Was, G.Watts,\\n  M.Weber, S.Willenbrock, U.K.Yang, C-P.Yuan, J.Zhu'}, {'authors': 'A Brandenburg (Nordita) and P J K\\\\\"apyl\\\\\"a (Nordita and Helsinki\\n  Observatory)'}, {'authors': 'A Kuiroukidis, K Kleidis and D B Papadopoulos'}, {'authors': 'A Kuiroukidis, K Kleidis, D B Papadopoulos and L Vlahos'}, {'authors': 'A Verma, N K Sharma and A Pathak'}, {'authors': 'A. A. Abdo, B. Allen, D. Berley, S. Casanova, C. Chen, D. G. Coyne, B.\\n  L. Dingus, R. W. Ellsworth, L. Fleysher, R. Fleysher, M. M. Gonzalez, J. A.\\n  Goodman, E. Hays, C. M. Hoffman, B. Hopper, P. H. Huntemeyer, B. E.\\n  Kolterman, C. P. Lansdell, J. T. Linnemann, J. E. McEnery, A. I. Mincer, P.\\n  Nemethy, D. Noyes, J. M. Ryan, P. M. Saz Parkinson, A. Shoup, G. Sinnis, A.\\n  J. Smith, G. W. Sullivan, V. Vasileiou, G. P. Walker, D. A. Williams, X. W.\\n  Xu, and G. B. Yodh'}, {'authors': 'A. A. Aligia, A. Anfossi, L. Arrachea, C. Degli Esposti Boschi, A. O.\\n  Dobry, C. Gazza, A. Montorsi, F. Ortolani, and M. E. Torio'}, {'authors': 'A. A. Malykh (North Western State Technical University, St.\\n  Petersburg, Russia), Y. Nutku (Feza Gursey Institute, Istanbul, Turkey) and\\n  M. B. Sheftel (Bogazici University, Istanbul, Turkey)'}, {'authors': 'A. A. Raduta and F. D. Aaron'}]\n"
     ]
    }
   ],
   "source": [
    "print(list(papers.aggregate([{\"$sort\":{\"authors\":1}}, {\"$project\":{\"_id\":0, \"authors\":1}}]))[0:9])"
   ]
  },
  {
   "cell_type": "markdown",
   "metadata": {},
   "source": [
    "(c) afficher le nombre d'articles qui n'ont pas été publiés par \"Damien Chablat\""
   ]
  },
  {
   "cell_type": "code",
   "execution_count": 135,
   "metadata": {},
   "outputs": [
    {
     "name": "stdout",
     "output_type": "stream",
     "text": [
      "9968\n"
     ]
    }
   ],
   "source": [
    "print(papers.count_documents({\"submitter\":{\"$ne\":\"Damien Chablat\"}}))"
   ]
  },
  {
   "cell_type": "markdown",
   "metadata": {},
   "source": [
    "(d) afficher le nombre de papiers téléversés en 2014. On pourra s'appuyer sur une expréssion régulière."
   ]
  },
  {
   "cell_type": "code",
   "execution_count": 143,
   "metadata": {},
   "outputs": [
    {
     "name": "stdout",
     "output_type": "stream",
     "text": [
      "122\n"
     ]
    }
   ],
   "source": [
    "import re\n",
    "\n",
    "exp = re.compile(r\"2014-\\d\\d-\\d\\d\")\n",
    "print(papers.count_documents({\"update_date\":exp}))"
   ]
  },
  {
   "cell_type": "markdown",
   "metadata": {},
   "source": [
    "(e) afficher le titre d'un article qui contient l'expression Machine Learning. On pourra utiliser une expression régulière."
   ]
  },
  {
   "cell_type": "code",
   "execution_count": 155,
   "metadata": {},
   "outputs": [
    {
     "name": "stdout",
     "output_type": "stream",
     "text": [
      "[{'title': 'Ensemble Learning for Free with Evolutionary Algorithms ?', 'abstract': '  Evolutionary Learning proceeds by evolving a population of classifiers, from\\nwhich it generally returns (with some notable exceptions) the single\\nbest-of-run classifier as final result. In the meanwhile, Ensemble Learning,\\none of the most efficient approaches in supervised Machine Learning for the\\nlast decade, proceeds by building a population of diverse classifiers. Ensemble\\nLearning with Evolutionary Computation thus receives increasing attention. The\\nEvolutionary Ensemble Learning (EEL) approach presented in this paper features\\ntwo contributions. First, a new fitness function, inspired by co-evolution and\\nenforcing the classifier diversity, is presented. Further, a new selection\\ncriterion based on the classification margin is proposed. This criterion is\\nused to extract the classifier ensemble from the final population only\\n(Off-line) or incrementally along evolution (On-line). Experiments on a set of\\nbenchmark problems show that Off-line outperforms single-hypothesis\\nevolutionary learning and state-of-art Boosting and generates smaller\\nclassifier ensembles.\\n'}]\n"
     ]
    }
   ],
   "source": [
    "exp2 = re.compile(r\"Machine+ Learning+\")\n",
    "print(list(papers.find({\"abstract\":exp2}, {\"_id\":0, \"title\":1, \"abstract\":1})))"
   ]
  },
  {
   "cell_type": "markdown",
   "metadata": {},
   "source": [
    "(f) afficher le nombre de publications par submitter pour les 10 personnes les plus prolifiques. On pourra utiliser un pipeline d'aggrégation avec les mots-clefs $group, $sort, $limit."
   ]
  },
  {
   "cell_type": "code",
   "execution_count": 164,
   "metadata": {},
   "outputs": [
    {
     "name": "stdout",
     "output_type": "stream",
     "text": [
      "[{'_id': 'Tshilidzi Marwala', 'nb_paper': 36}, {'_id': 'Damien Chablat', 'nb_paper': 32}, {'_id': 'Yusuke Sasano', 'nb_paper': 18}, {'_id': 'Jerome Darmont', 'nb_paper': 12}, {'_id': 'Matthias Brust R.', 'nb_paper': 11}, {'_id': 'Laurent Cognet', 'nb_paper': 10}, {'_id': 'Dr. Anirudh Pradhan', 'nb_paper': 9}, {'_id': 'Michael Ibison', 'nb_paper': 8}, {'_id': 'Dietrich Stauffer', 'nb_paper': 8}, {'_id': 'Gordan Zitkovic', 'nb_paper': 8}]\n"
     ]
    }
   ],
   "source": [
    "print(list(papers.aggregate([\n",
    "    {\n",
    "        \"$group\":{\"_id\":\"$submitter\", \"nb_paper\":{\"$sum\":1}}\n",
    "    },\n",
    "    {\n",
    "        \"$sort\":{\"nb_paper\":-1}\n",
    "    },\n",
    "    {\n",
    "        \"$limit\":10\n",
    "    }\n",
    "])\n",
    "))"
   ]
  }
 ],
 "metadata": {
  "kernelspec": {
   "display_name": "Python 3.10.6 64-bit",
   "language": "python",
   "name": "python3"
  },
  "language_info": {
   "codemirror_mode": {
    "name": "ipython",
    "version": 3
   },
   "file_extension": ".py",
   "mimetype": "text/x-python",
   "name": "python",
   "nbconvert_exporter": "python",
   "pygments_lexer": "ipython3",
   "version": "3.10.6"
  },
  "orig_nbformat": 4,
  "vscode": {
   "interpreter": {
    "hash": "916dbcbb3f70747c44a77c7bcd40155683ae19c65e1c03b4aa3499c5328201f1"
   }
  }
 },
 "nbformat": 4,
 "nbformat_minor": 2
}
