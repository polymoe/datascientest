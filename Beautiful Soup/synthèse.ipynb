{
 "cells": [
  {
   "cell_type": "markdown",
   "id": "855f9132-e4a8-41d9-9142-a7e7a3870776",
   "metadata": {},
   "source": [
    "# SCRAP"
   ]
  },
  {
   "cell_type": "markdown",
   "id": "37237dbc-7d4b-4b67-92c0-6b57355376a8",
   "metadata": {},
   "source": [
    "### 1. find, findAll, select\n",
    "\n",
    "> `BeautifulSoup` dispose de plusieurs méthodes pour sélectionner des éléments dans le code HTML. \n",
    "> * `find`:\n",
    ">> La méthode `find` est similaire à la navigation par tag. Elle permet de récupérer le premier tag concerné.\n",
    ">> Ainsi, les deux codes suivants sont équivalents:\n",
    ">> <br /> \\\n",
    ">> `soup.div.div.a`\\\n",
    ">> `soup.find('div').find('div').find('a')`\n",
    ">> <br />\n",
    ">>\n",
    ">> Ils permettent d'afficher le premier lien hypertexte du document HTML `soup` hébergé dans deux conteneurs.\n",
    "> \n",
    "> * `findAll`:\n",
    ">> Cette méthode récupère tous les tags recherchés. Par exemple, pour afficher tous les liens hypertextes de la page, il est possible d'utiliser le code suivant:\n",
    ">> <br /> \\\n",
    ">> `soup.findAll('a')`\n",
    ">> <br />\n",
    ">>\n",
    ">> La fonction `findAll`, renvoie une **liste** contenant une série de valeurs. La première valeur de la liste est le code `html` de la première balise `a` de `soup`, la deuxième valeur est le code de la deuxième balise `a` de `soup` et ainsi de suite.\n",
    ">\n",
    "> * `select`:\n",
    ">> En plus de retrouver tous les éléments pointés, `select` a la particularité de pouvoir spécifier le parent des tags concernés. Par exemple, le code:\n",
    ">> <br /> \\\n",
    ">> `soup.select(\"div > a\")`\n",
    ">> <br />\\\n",
    ">> permet d'afficher toutes les balises `a` du parent `div` (c'est-à-dire se localisant juste en dessous du tag nommé `div`). \n",
    ">> Cette commande renvoie également une **liste** contenant toutes les balises concernées."
   ]
  },
  {
   "cell_type": "code",
   "execution_count": 55,
   "id": "2afd4d83-2a2b-42f6-a86d-98d17651ac25",
   "metadata": {},
   "outputs": [],
   "source": [
    "from urllib.request import urlopen\n",
    "from bs4 import BeautifulSoup\n",
    "import pandas as pd"
   ]
  },
  {
   "cell_type": "code",
   "execution_count": 63,
   "id": "c030bc38-9221-4f82-8c04-fd460500ed4e",
   "metadata": {},
   "outputs": [],
   "source": [
    "#URL\n",
    "page_SC = urlopen(\"https://web.archive.org/web/20210422083605/https://www.senscritique.com/films/tops/top111\")"
   ]
  },
  {
   "cell_type": "code",
   "execution_count": 64,
   "id": "c5303c72-4fc4-4763-b6b0-441495254994",
   "metadata": {},
   "outputs": [],
   "source": [
    "#création instence de soup\n",
    "soup = BeautifulSoup(page_SC, 'html.parser')"
   ]
  },
  {
   "cell_type": "code",
   "execution_count": 65,
   "id": "7db2eaf8-9e8a-4b1e-8739-72e3c23c49cf",
   "metadata": {
    "tags": []
   },
   "outputs": [
    {
     "data": {
      "text/plain": [
       "bs4.BeautifulSoup"
      ]
     },
     "execution_count": 65,
     "metadata": {},
     "output_type": "execute_result"
    }
   ],
   "source": [
    "type(soup)"
   ]
  },
  {
   "cell_type": "code",
   "execution_count": 66,
   "id": "68d7c4f4-6978-4df6-b734-c563c80d21ab",
   "metadata": {},
   "outputs": [],
   "source": [
    "noms_SC = soup.findAll(name = 'a', attrs = {'class': 'elco-anchor'})"
   ]
  },
  {
   "cell_type": "code",
   "execution_count": 83,
   "id": "60c3c924-3701-4389-af20-4f70bb643c0a",
   "metadata": {},
   "outputs": [
    {
     "data": {
      "text/plain": [
       "'Harakiri'"
      ]
     },
     "execution_count": 83,
     "metadata": {},
     "output_type": "execute_result"
    }
   ],
   "source": [
    "nom = noms_SC[1]\n",
    "nom.text"
   ]
  },
  {
   "cell_type": "code",
   "execution_count": 75,
   "id": "78b973e1-77c3-41ed-9a36-c93bd848e67a",
   "metadata": {},
   "outputs": [],
   "source": [
    "titre_SC = [] # On crée une liste vide qui contiendra tous les titres propres\n",
    "for element in noms_SC:\n",
    "    titre_SC.append(element.text)"
   ]
  },
  {
   "cell_type": "code",
   "execution_count": 76,
   "id": "978ea290-44b0-4079-95f8-495471156fd7",
   "metadata": {},
   "outputs": [
    {
     "name": "stdout",
     "output_type": "stream",
     "text": [
      "['12 hommes en colère', 'Harakiri', 'Barberousse', 'Le Bon, la Brute et le Truand', 'Les Sept Samouraïs', \"Il était une fois dans l'Ouest\", 'Il était une fois en Amérique', 'Le Parrain', 'Le Trou', 'Point limite', \"Entre le ciel et l'enfer\", 'Le Voyage de Chihiro', 'Princesse Mononoké', \"L'Aurore\", 'Dersou Ouzala', 'Sherlock Junior', \"Vol au-dessus d'un nid de coucou\", 'Pour Sama', 'Parasite', 'Pulp Fiction', 'Apocalypse Now', 'Le Parrain : 2e Partie', 'Le Dictateur', 'La Femme des sables', 'Psychose', \"Voyage au bout de l'enfer\", 'Soy Cuba', 'Sátántangó – Le Tango de Satan', 'Andreï Roublev', 'Les Affranchis', 'Boulevard du crépuscule', 'Le Tombeau des lucioles', 'Requiem pour un massacre', 'Rendez-vous', 'Quand passent les cigognes', 'La Foule', 'Rébellion', 'Les Enfants du paradis', 'Ève...', \"L'Intendant Sansho\", 'La vie est belle', 'Jeux dangereux', 'La Parole', 'Les Temps modernes', 'Les Lumières de la ville', 'Gentleman Jim', 'M le maudit', 'Le Limier', 'Metropolis', 'Les Sentiers de la gloire', 'Stalker', 'Fanny et Alexandre', 'Fight Club', 'Fenêtre sur cour', 'Barry Lyndon', 'Memories of Murder', 'La Nuit du chasseur', 'Le Kid', 'La Vérité', 'Un voyage avec Martin Scorsese à travers le cinéma américain', \"L'Armée des ombres\", 'La Colline des hommes perdus', 'Shining', \"L'Empire contre-attaque\", 'Les Diaboliques', 'Persona', 'Vivre', 'Le Joli Mai', 'Les Nibelungen', 'Alien : Le 8ème Passager', 'Furie', \"L'enfer est à lui\", 'Le Seigneur des Anneaux : Le Retour du roi', 'Old Boy', 'Les salauds dorment en paix', 'Sueurs froides', 'Chantons sous la pluie', \"Autopsie d'un meurtre\", 'De Nuremberg à Nuremberg', 'Les Évadés', \"L'Impasse\", 'Le Mécano de la « General »', 'Paris Is Burning', 'Onibaba, les tueuses', 'La Bataille de Tchernobyl', 'Seven', 'La Liste de Schindler', 'Une journée particulière', 'Les Chaussons rouges', 'Sans soleil', 'Faust', 'Leçons de Ténèbres', \"L'Homme qui tua Liberty Valance\", 'Koyaanisqatsi', \"L'Opérateur\", 'Whiplash', 'Elephant Man', 'Freaks - La Monstrueuse Parade', 'Paris, Texas', 'Citizen Kane', 'La Garçonnière', 'Voyage à Tokyo', \"L'Aventure de Mme Muir\", 'Le 13e', 'Blitz Wolf', 'Mr. Smith au Sénat', 'Shoah', 'La Fille de Ryan', 'Nous avons gagné ce soir', \"Le Seigneur des Anneaux : La Communauté de l'anneau\", 'Le Salaire de la peur']\n"
     ]
    }
   ],
   "source": [
    "print(titre_SC)"
   ]
  },
  {
   "cell_type": "markdown",
   "id": "456b1c6a-2e13-442d-ac07-e98f77040ced",
   "metadata": {},
   "source": [
    "IMDB"
   ]
  },
  {
   "cell_type": "markdown",
   "id": "31251d6a-fd92-4dde-b3bf-8169c8aa2ae5",
   "metadata": {},
   "source": [
    "### CODE POUR ENREGISTRER LE FICHIER SCAPE EN LOCAL"
   ]
  },
  {
   "cell_type": "markdown",
   "id": "ee028751-f1a5-4edd-86d0-30a3d6f86c40",
   "metadata": {},
   "source": [
    "filename = 'nom_du_fichier.csv'"
   ]
  },
  {
   "cell_type": "markdown",
   "id": "d28d636d-f286-47a7-a9f8-3ec190c01467",
   "metadata": {},
   "source": [
    "f = open(filename, 'w')\\ f.write('colonne_1, colonne_2, colonne_3, colonne_4\\n')\\ f.write(données_col_1 + ',' + données_col_2 + ',' + données_col_3 + ',' + données_col_4 + '\\n')\\ f.close()"
   ]
  }
 ],
 "metadata": {
  "kernelspec": {
   "display_name": "Python 3 (ipykernel)",
   "language": "python",
   "name": "python3"
  },
  "language_info": {
   "codemirror_mode": {
    "name": "ipython",
    "version": 3
   },
   "file_extension": ".py",
   "mimetype": "text/x-python",
   "name": "python",
   "nbconvert_exporter": "python",
   "pygments_lexer": "ipython3",
   "version": "3.9.7"
  }
 },
 "nbformat": 4,
 "nbformat_minor": 5
}
